{
 "cells": [
  {
   "cell_type": "markdown",
   "metadata": {},
   "source": [
    "# Set-Up"
   ]
  },
  {
   "cell_type": "code",
   "execution_count": 74,
   "metadata": {},
   "outputs": [],
   "source": [
    "files='''326.jpg\n",
    "365.jpg\n",
    "350.jpg\n",
    "333.jpg\n",
    "347.jpg\n",
    "348.jpg\n",
    "335.jpg\n",
    "321.jpg\n",
    "344.jpg\n",
    "343.jpg\n",
    "361.jpg\n",
    "331.jpg\n",
    "370.jpg\n",
    "367.jpg\n",
    "371.jpg\n",
    "353.jpg\n",
    "329.jpg\n",
    "345.jpg\n",
    "372.jpg\n",
    "313.jpg\n",
    "325.jpg\n",
    "322.jpg\n",
    "314.jpg\n",
    "356.jpg\n",
    "336.jpg\n",
    "342.jpg\n",
    "334.jpg\n",
    "357.jpg\n",
    "315.jpg\n",
    "359.jpg\n",
    "319.jpg\n",
    "364.jpg\n",
    "320.jpg\n",
    "369.jpg\n",
    "328.jpg\n",
    "352.jpg\n",
    "339.jpg\n",
    "327.jpg\n",
    "362.jpg\n",
    "337.jpg\n",
    "355.jpg\n",
    "338.jpg\n",
    "341.jpg\n",
    "368.jpg\n",
    "351.jpg'''"
   ]
  },
  {
   "cell_type": "code",
   "execution_count": 75,
   "metadata": {},
   "outputs": [],
   "source": [
    "files_arr=files.split('\\n')"
   ]
  },
  {
   "cell_type": "code",
   "execution_count": 76,
   "metadata": {},
   "outputs": [
    {
     "data": {
      "text/plain": [
       "['326.jpg',\n",
       " '365.jpg',\n",
       " '350.jpg',\n",
       " '333.jpg',\n",
       " '347.jpg',\n",
       " '348.jpg',\n",
       " '335.jpg',\n",
       " '321.jpg',\n",
       " '344.jpg',\n",
       " '343.jpg',\n",
       " '361.jpg',\n",
       " '331.jpg',\n",
       " '370.jpg',\n",
       " '367.jpg',\n",
       " '371.jpg',\n",
       " '353.jpg',\n",
       " '329.jpg',\n",
       " '345.jpg',\n",
       " '372.jpg',\n",
       " '313.jpg',\n",
       " '325.jpg',\n",
       " '322.jpg',\n",
       " '314.jpg',\n",
       " '356.jpg',\n",
       " '336.jpg',\n",
       " '342.jpg',\n",
       " '334.jpg',\n",
       " '357.jpg',\n",
       " '315.jpg',\n",
       " '359.jpg',\n",
       " '319.jpg',\n",
       " '364.jpg',\n",
       " '320.jpg',\n",
       " '369.jpg',\n",
       " '328.jpg',\n",
       " '352.jpg',\n",
       " '339.jpg',\n",
       " '327.jpg',\n",
       " '362.jpg',\n",
       " '337.jpg',\n",
       " '355.jpg',\n",
       " '338.jpg',\n",
       " '341.jpg',\n",
       " '368.jpg',\n",
       " '351.jpg']"
      ]
     },
     "execution_count": 76,
     "metadata": {},
     "output_type": "execute_result"
    }
   ],
   "source": [
    "files_arr"
   ]
  },
  {
   "cell_type": "code",
   "execution_count": 77,
   "metadata": {},
   "outputs": [
    {
     "data": {
      "text/plain": [
       "'351.jpg'"
      ]
     },
     "execution_count": 77,
     "metadata": {},
     "output_type": "execute_result"
    }
   ],
   "source": [
    "files_arr[-1]"
   ]
  },
  {
   "cell_type": "code",
   "execution_count": 49,
   "metadata": {},
   "outputs": [
    {
     "data": {
      "text/plain": [
       "'404.jpg'"
      ]
     },
     "execution_count": 49,
     "metadata": {},
     "output_type": "execute_result"
    }
   ],
   "source": [
    "files_arr.pop(-1)"
   ]
  },
  {
   "cell_type": "code",
   "execution_count": 78,
   "metadata": {},
   "outputs": [
    {
     "data": {
      "text/plain": [
       "45"
      ]
     },
     "execution_count": 78,
     "metadata": {},
     "output_type": "execute_result"
    }
   ],
   "source": [
    "len(files_arr)"
   ]
  },
  {
   "cell_type": "code",
   "execution_count": 10,
   "metadata": {},
   "outputs": [],
   "source": [
    "import os"
   ]
  },
  {
   "cell_type": "code",
   "execution_count": 11,
   "metadata": {},
   "outputs": [
    {
     "data": {
      "text/plain": [
       "'D:\\\\Rahul Golani\\\\Web Application to Consume Deep Learning Model'"
      ]
     },
     "execution_count": 11,
     "metadata": {},
     "output_type": "execute_result"
    }
   ],
   "source": [
    "os.getcwd()"
   ]
  },
  {
   "cell_type": "code",
   "execution_count": 22,
   "metadata": {},
   "outputs": [],
   "source": [
    "os.chdir('D:\\\\Rahul Golani\\\\Web Application to Consume Deep Learning Model\\\\dataset\\\\train')"
   ]
  },
  {
   "cell_type": "code",
   "execution_count": 23,
   "metadata": {},
   "outputs": [
    {
     "data": {
      "text/plain": [
       "'D:\\\\Rahul Golani\\\\Web Application to Consume Deep Learning Model\\\\dataset\\\\train'"
      ]
     },
     "execution_count": 23,
     "metadata": {},
     "output_type": "execute_result"
    }
   ],
   "source": [
    "os.getcwd()"
   ]
  },
  {
   "cell_type": "code",
   "execution_count": 24,
   "metadata": {},
   "outputs": [],
   "source": [
    "import shutil"
   ]
  },
  {
   "cell_type": "code",
   "execution_count": 79,
   "metadata": {},
   "outputs": [],
   "source": [
    "for f in files_arr:\n",
    "    shutil.move(f, 'D:\\\\Rahul Golani\\\\Web Application to Consume Deep Learning Model\\\\Dance Forms\\\\train\\\\sattriya')"
   ]
  },
  {
   "cell_type": "code",
   "execution_count": null,
   "metadata": {},
   "outputs": [],
   "source": []
  }
 ],
 "metadata": {
  "kernelspec": {
   "display_name": "Python 3",
   "language": "python",
   "name": "python3"
  },
  "language_info": {
   "codemirror_mode": {
    "name": "ipython",
    "version": 3
   },
   "file_extension": ".py",
   "mimetype": "text/x-python",
   "name": "python",
   "nbconvert_exporter": "python",
   "pygments_lexer": "ipython3",
   "version": "3.7.6"
  }
 },
 "nbformat": 4,
 "nbformat_minor": 4
}
